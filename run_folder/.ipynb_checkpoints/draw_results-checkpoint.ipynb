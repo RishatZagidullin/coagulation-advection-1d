{
 "cells": [
  {
   "cell_type": "code",
   "execution_count": null,
   "metadata": {},
   "outputs": [],
   "source": [
    "import numpy as np\n",
    "import matplotlib.pyplot as plt\n",
    "\n",
    "a = np.loadtxt(\"vel_source_cont.txt\")\n",
    "b = np.loadtxt(\"dif_source_cont.txt\")\n",
    "plt.plot(b[2,:])\n",
    "plt.plot(b[19,:])"
   ]
  },
  {
   "cell_type": "code",
   "execution_count": null,
   "metadata": {},
   "outputs": [],
   "source": [
    "print(a.shape)"
   ]
  },
  {
   "cell_type": "code",
   "execution_count": null,
   "metadata": {},
   "outputs": [],
   "source": [
    "import numpy as np\n",
    "import matplotlib.pyplot as plt\n",
    "\n",
    "res = np.loadtxt(\"krapivsky.txt\")\n",
    "\n",
    "print(res.shape)"
   ]
  },
  {
   "cell_type": "code",
   "execution_count": null,
   "metadata": {},
   "outputs": [],
   "source": [
    "res = res.reshape((50, 1000, 2048))\n",
    "\n",
    "print(res.shape)"
   ]
  },
  {
   "cell_type": "code",
   "execution_count": null,
   "metadata": {
    "scrolled": false
   },
   "outputs": [],
   "source": [
    "plt.figure(figsize=(10,10))\n",
    "ax = plt.subplot()\n",
    "im = ax.imshow(res[49], aspect='auto')\n",
    "plt.colorbar(im)\n",
    "plt.show()"
   ]
  },
  {
   "cell_type": "code",
   "execution_count": null,
   "metadata": {},
   "outputs": [],
   "source": [
    "J = 1.0\n",
    "x = np.linspace(0.01, 50, 1000)\n",
    "l = (24.0/J)**(1./3.)\n",
    "\n",
    "first = 0\n",
    "last = 16\n",
    "\n",
    "trapezoid_res = 0.1/2.*(2*res[49][:, first+1:last].sum(axis=1) + res[49][:, last] + res[49][:, first])\n",
    "\n",
    "plt.plot(trapezoid_res, label = 'num')\n",
    "plt.plot( (4.*l / (x + l)**3), label = 'an')\n",
    "plt.legend()"
   ]
  },
  {
   "cell_type": "code",
   "execution_count": null,
   "metadata": {},
   "outputs": [],
   "source": [
    "J = 1.0\n",
    "x = np.linspace(0.0, 50, 1000)\n",
    "l = (24.0/J)**(1./3.)\n",
    "\n",
    "first = 0\n",
    "last = -1\n",
    "\n",
    "trapezoid_res = 0.1/2.*(2*res[49][:, first+1:last].sum(axis=1) + res[49][:, last] + res[49][:, first])\n",
    "\n",
    "plt.plot(trapezoid_res, label='num')\n",
    "plt.plot( (6. / (x + l)**2), label='an' )\n",
    "plt.legend()"
   ]
  },
  {
   "cell_type": "code",
   "execution_count": null,
   "metadata": {},
   "outputs": [],
   "source": [
    "J = 1.0\n",
    "x = np.linspace(0.5, 50, 1000)\n",
    "l = (24.0/J)**(1./3.)\n",
    "\n",
    "first = 16\n",
    "last = 21\n",
    "\n",
    "trapezoid_res = 0.1/2.*(2*res[49][:, first+1:last].sum(axis=1) + res[49][:, last] + res[49][:, first])\n",
    "\n",
    "plt.plot(trapezoid_res, label = 'num')\n",
    "plt.plot( 8./3.*l / (x + l)**3 - 2.*l**2 / (x + l)**4, label='an' )\n",
    "plt.legend()"
   ]
  },
  {
   "cell_type": "code",
   "execution_count": null,
   "metadata": {
    "scrolled": true
   },
   "outputs": [],
   "source": [
    "J = 1.0\n",
    "x = np.linspace(0, 50, 1000)\n",
    "l = (24.0/J)**(1./3.)\n",
    "\n",
    "plt.plot(res[49][:, 1023], label='num')\n",
    "plt.plot(res[48][:, 1023], label='an' )\n",
    "plt.legend()"
   ]
  },
  {
   "cell_type": "code",
   "execution_count": null,
   "metadata": {},
   "outputs": [],
   "source": [
    "v = np.linspace(0, 2048, 2048)\n",
    "\n",
    "plt.plot(v, res[49][0]*v)"
   ]
  },
  {
   "cell_type": "code",
   "execution_count": null,
   "metadata": {},
   "outputs": [],
   "source": [
    "import numpy as np\n",
    "import matplotlib.pyplot as plt\n",
    "\n",
    "b = np.loadtxt(\"source_vel.txt\")\n",
    "a = np.loadtxt(\"source_dif.txt\")\n",
    "v = np.linspace(0, 1000, 10000)\n",
    "\n",
    "marker_d = [\"b--\", \"b\"]\n",
    "marker_v = [\"r--\", \"r\"]\n",
    "mark = [100,130,180]\n",
    "\n",
    "plt.figure(figsize=(20,10))\n",
    "for j,i in enumerate([40, 80]):\n",
    "        dif = \"без потока: t=\" + str(round(i*0.1,2))\n",
    "        plt.plot(v, a[i]*v, marker_d[j], label = dif, lw = 5, markevery=mark[j], markersize=10)\n",
    "        vel = \"в потоке: t=\" + str(round(i*0.1,2))\n",
    "        plt.plot(v, b[i]*v, marker_v[j], label = vel, lw = 5, markevery=mark[j], markersize=10)\n",
    "plt.legend(fontsize=20)\n",
    "plt.xticks(fontsize=20)\n",
    "plt.xlabel(\"volume\", fontsize=20)\n",
    "plt.yticks(fontsize=20)\n",
    "plt.ylabel(\"$v\\cdot n(v)$\", fontsize=20)\n",
    "plt.yscale(\"log\")\n",
    "#plt.xlim([-10,200])\n",
    "plt.savefig(\"source_cont_log.png\")\n"
   ]
  },
  {
   "cell_type": "code",
   "execution_count": null,
   "metadata": {},
   "outputs": [],
   "source": [
    "v = np.linspace(0, 1000, 10000)\n",
    "for i in range(100):\n",
    "        num = 10*i\n",
    "        f, ax = plt.subplots(1,2, figsize=(20,10))\n",
    "        ax = ax.reshape(-1)\n",
    "        ax[0].set_title(\"flux\")\n",
    "        ax[0].plot(v, a[num]*v)\n",
    "        ax[0].set_yscale(\"log\")\n",
    "        ax[-1].set_title(\"nonflux\")\n",
    "        ax[-1].plot(v, b[num]*v)\n",
    "        ax[-1].set_yscale(\"log\")\n",
    "        f.savefig(str(i)+\".png\")\n",
    "        plt.close()"
   ]
  },
  {
   "cell_type": "code",
   "execution_count": null,
   "metadata": {},
   "outputs": [],
   "source": []
  },
  {
   "cell_type": "code",
   "execution_count": null,
   "metadata": {},
   "outputs": [],
   "source": [
    "import numpy as np\n",
    "import matplotlib.pyplot as plt\n",
    "\n",
    "res = np.loadtxt(\"adv_krapivsky.txt\")\n",
    "\n",
    "print(res.shape)"
   ]
  },
  {
   "cell_type": "code",
   "execution_count": null,
   "metadata": {},
   "outputs": [],
   "source": [
    "res = res.reshape((50, 1000, 2048))\n",
    "\n",
    "print(res.shape)"
   ]
  },
  {
   "cell_type": "code",
   "execution_count": null,
   "metadata": {
    "scrolled": false
   },
   "outputs": [],
   "source": [
    "plt.figure(figsize=(10,10))\n",
    "ax = plt.subplot()\n",
    "im = ax.imshow(res[49][:100, :100]-res[1][:100, :100], aspect='auto')\n",
    "plt.colorbar(im)\n",
    "plt.show()"
   ]
  },
  {
   "cell_type": "code",
   "execution_count": null,
   "metadata": {},
   "outputs": [],
   "source": [
    "J = 1.0\n",
    "x = np.linspace(0.01, 100, 1000)\n",
    "l = (24.0/J)**(1./3.)\n",
    "\n",
    "first = 0\n",
    "last = 16\n",
    "\n",
    "trapezoid_res = 0.1/2.*(2*res[49][:, first+1:last].sum(axis=1) + res[49][:, last] + res[49][:, first])\n",
    "\n",
    "plt.plot(trapezoid_res[200:], label = 'num')\n",
    "plt.plot( (2./x**2)[200:], label = 'an')\n",
    "plt.legend()"
   ]
  },
  {
   "cell_type": "code",
   "execution_count": null,
   "metadata": {},
   "outputs": [],
   "source": [
    "J = 1.0\n",
    "x = np.linspace(0.01, 100, 1000)\n",
    "l = (24.0/J)**(1./3.)\n",
    "\n",
    "first = 0\n",
    "last = -1\n",
    "\n",
    "trapezoid_res = 0.1/2.*(2*res[49][:, first+1:last].sum(axis=1) + res[49][:, last] + res[49][:, first])\n",
    "\n",
    "plt.plot(trapezoid_res[200:], label='num')\n",
    "plt.plot( (1.0/x)[200:], label='an' )\n",
    "plt.legend()"
   ]
  },
  {
   "cell_type": "code",
   "execution_count": null,
   "metadata": {
    "scrolled": true
   },
   "outputs": [],
   "source": [
    "J = 1.0\n",
    "x = np.linspace(0, 50, 1000)\n",
    "l = (24.0/J)**(1./3.)\n",
    "\n",
    "plt.plot(res[49][:, 1023], label='num')\n",
    "plt.plot(res[48][:, 1023], label='an' )\n",
    "plt.legend()"
   ]
  },
  {
   "cell_type": "code",
   "execution_count": null,
   "metadata": {},
   "outputs": [],
   "source": [
    "v = np.linspace(0, 2048, 2048)\n",
    "\n",
    "plt.plot(v, res[49][0]*v)"
   ]
  },
  {
   "cell_type": "code",
   "execution_count": null,
   "metadata": {},
   "outputs": [],
   "source": []
  },
  {
   "cell_type": "code",
   "execution_count": 1,
   "metadata": {},
   "outputs": [
    {
     "name": "stdout",
     "output_type": "stream",
     "text": [
      "(50000, 512)\n"
     ]
    }
   ],
   "source": [
    "import numpy as np\n",
    "import matplotlib.pyplot as plt\n",
    "\n",
    "res = np.loadtxt(\"full_krapivsky.txt\")\n",
    "\n",
    "print(res.shape)"
   ]
  },
  {
   "cell_type": "code",
   "execution_count": 2,
   "metadata": {},
   "outputs": [
    {
     "name": "stdout",
     "output_type": "stream",
     "text": [
      "(50, 1000, 512)\n"
     ]
    }
   ],
   "source": [
    "res = res.reshape((50, 1000, 512))\n",
    "\n",
    "print(res.shape)"
   ]
  },
  {
   "cell_type": "code",
   "execution_count": 3,
   "metadata": {
    "scrolled": false
   },
   "outputs": [
    {
     "data": {
      "image/png": "[encoded data removed]",
      "text/plain": [
       "<Figure size 720x720 with 2 Axes>"
      ]
     },
     "metadata": {
      "needs_background": "light"
     },
     "output_type": "display_data"
    }
   ],
   "source": [
    "plt.figure(figsize=(10,10))\n",
    "ax = plt.subplot()\n",
    "im = ax.imshow(res[49][:100, :100]-res[1][:100, :100], aspect='auto')\n",
    "plt.colorbar(im)\n",
    "plt.show()"
   ]
  },
  {
   "cell_type": "code",
   "execution_count": 4,
   "metadata": {},
   "outputs": [
    {
     "data": {
      "text/plain": [
       "<matplotlib.legend.Legend at 0x7f7add098430>"
      ]
     },
     "execution_count": 4,
     "metadata": {},
     "output_type": "execute_result"
    },
    {
     "data": {
      "image/png": "[encoded data removed]",
      "text/plain": [
       "<Figure size 432x288 with 1 Axes>"
      ]
     },
     "metadata": {
      "needs_background": "light"
     },
     "output_type": "display_data"
    }
   ],
   "source": [
    "J = 1.0\n",
    "x = np.linspace(0.01, 100, 1000)\n",
    "l = (24.0/J)**(1./3.)\n",
    "\n",
    "first = 0\n",
    "last = 16\n",
    "\n",
    "trapezoid_res = 0.1/2.*(2*res[49][:, first+1:last].sum(axis=1) + res[49][:, last] + res[49][:, first])\n",
    "\n",
    "plt.plot(trapezoid_res[200:], label = 'num')\n",
    "plt.plot( (2./x**2)[200:], label = 'an')\n",
    "plt.legend()"
   ]
  },
  {
   "cell_type": "code",
   "execution_count": 5,
   "metadata": {},
   "outputs": [
    {
     "data": {
      "text/plain": [
       "<matplotlib.legend.Legend at 0x7f7adcdcdf40>"
      ]
     },
     "execution_count": 5,
     "metadata": {},
     "output_type": "execute_result"
    },
    {
     "data": {
      "image/png": "[encoded data removed]",
      "text/plain": [
       "<Figure size 432x288 with 1 Axes>"
      ]
     },
     "metadata": {
      "needs_background": "light"
     },
     "output_type": "display_data"
    }
   ],
   "source": [
    "J = 1.0\n",
    "x = np.linspace(0.01, 100, 1000)\n",
    "l = (24.0/J)**(1./3.)\n",
    "\n",
    "first = 0\n",
    "last = -1\n",
    "\n",
    "trapezoid_res = 0.1/2.*(2*res[49][:, first+1:last].sum(axis=1) + res[49][:, last] + res[49][:, first])\n",
    "\n",
    "plt.plot(trapezoid_res[200:], label='num')\n",
    "plt.plot( (1.0/x)[200:], label='an' )\n",
    "plt.legend()"
   ]
  },
  {
   "cell_type": "code",
   "execution_count": 10,
   "metadata": {
    "scrolled": true
   },
   "outputs": [
    {
     "data": {
      "text/plain": [
       "<matplotlib.legend.Legend at 0x7f7adc883160>"
      ]
     },
     "execution_count": 10,
     "metadata": {},
     "output_type": "execute_result"
    },
    {
     "data": {
      "image/png": "[encoded data removed]",
      "text/plain": [
       "<Figure size 432x288 with 1 Axes>"
      ]
     },
     "metadata": {
      "needs_background": "light"
     },
     "output_type": "display_data"
    }
   ],
   "source": [
    "J = 1.0\n",
    "x = np.linspace(0, 100, 1000)\n",
    "l = (24.0/J)**(1./3.)\n",
    "\n",
    "plt.plot(res[49][:, 255], label='num')\n",
    "plt.plot(res[40][:, 255], label='an' )\n",
    "plt.legend()"
   ]
  },
  {
   "cell_type": "code",
   "execution_count": 17,
   "metadata": {},
   "outputs": [
    {
     "data": {
      "text/plain": [
       "[<matplotlib.lines.Line2D at 0x7f7b0c39ed30>]"
      ]
     },
     "execution_count": 17,
     "metadata": {},
     "output_type": "execute_result"
    },
    {
     "data": {
      "image/png": "[encoded data removed]",
      "text/plain": [
       "<Figure size 432x288 with 1 Axes>"
      ]
     },
     "metadata": {
      "needs_background": "light"
     },
     "output_type": "display_data"
    }
   ],
   "source": [
    "v = np.linspace(0, 512, 512)\n",
    "\n",
    "\n",
    "plt.plot(v, res[1][0]*v)\n",
    "#plt.plot(v, res[2][0]*v)\n",
    "#plt.plot(v, res[3][0]*v)\n",
    "plt.plot(v, res[4][0]*v)\n",
    "plt.plot(v, res[40][0]*v)\n",
    "plt.plot(v, res[49][0]*v)"
   ]
  },
  {
   "cell_type": "code",
   "execution_count": null,
   "metadata": {},
   "outputs": [],
   "source": []
  }
 ],
 "metadata": {
  "kernelspec": {
   "display_name": "Python 3",
   "language": "python",
   "name": "python3"
  },
  "language_info": {
   "codemirror_mode": {
    "name": "ipython",
    "version": 3
   },
   "file_extension": ".py",
   "mimetype": "text/x-python",
   "name": "python",
   "nbconvert_exporter": "python",
   "pygments_lexer": "ipython3",
   "version": "3.8.10"
  }
 },
 "nbformat": 4,
 "nbformat_minor": 4
}
